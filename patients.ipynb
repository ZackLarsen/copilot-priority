{
 "cells": [
  {
   "cell_type": "markdown",
   "metadata": {},
   "source": [
    "## Patient EDA"
   ]
  },
  {
   "cell_type": "code",
   "execution_count": 25,
   "metadata": {},
   "outputs": [],
   "source": [
    "import pandas as pd\n",
    "import pyarrow as pa\n",
    "import pyarrow.parquet as pq\n",
    "import deltalake\n",
    "import matplotlib.pyplot as plt"
   ]
  },
  {
   "cell_type": "code",
   "execution_count": 3,
   "metadata": {},
   "outputs": [],
   "source": [
    "%%bash\n",
    "python generate_patients.py 100 --seed 42"
   ]
  },
  {
   "cell_type": "code",
   "execution_count": 6,
   "metadata": {},
   "outputs": [
    {
     "name": "stdout",
     "output_type": "stream",
     "text": [
      "total 48\n",
      "-rw-r--r--  1 zacklarsen  staff  9609 Jul 24 08:32 patients.delta\n",
      "-rw-r--r--  1 zacklarsen  staff  9609 Jul 24 08:32 patients.parquet\n"
     ]
    }
   ],
   "source": [
    "%%bash\n",
    "ls -l data"
   ]
  },
  {
   "cell_type": "code",
   "execution_count": 8,
   "metadata": {},
   "outputs": [],
   "source": [
    "table = pq.read_table('data/patients.parquet')"
   ]
  },
  {
   "cell_type": "code",
   "execution_count": 9,
   "metadata": {},
   "outputs": [
    {
     "name": "stdout",
     "output_type": "stream",
     "text": [
      "patient_name: string\n",
      "patient_id: int64\n",
      "patient_age: int64\n",
      "patient_gender: string\n",
      "current_clinical_risk: string\n",
      "has_high_acuity: bool\n",
      "has_moderate_acuity: bool\n",
      "has_severe_disease: bool\n",
      "has_moderate_disease: bool\n",
      "needs_stabilization: bool\n",
      "-- schema metadata --\n",
      "pandas: '{\"index_columns\": [], \"column_indexes\": [], \"columns\": [{\"name\":' + 1362\n"
     ]
    }
   ],
   "source": [
    "print(table.schema)"
   ]
  },
  {
   "cell_type": "code",
   "execution_count": null,
   "metadata": {},
   "outputs": [],
   "source": []
  },
  {
   "cell_type": "code",
   "execution_count": null,
   "metadata": {},
   "outputs": [],
   "source": []
  },
  {
   "cell_type": "code",
   "execution_count": 38,
   "metadata": {},
   "outputs": [],
   "source": [
    "# Create a PyArrow filesystem object\n",
    "fs = pa.fs.LocalFileSystem()"
   ]
  },
  {
   "cell_type": "code",
   "execution_count": 39,
   "metadata": {},
   "outputs": [],
   "source": [
    "pyarrow_patients = pq.read_table(source='data/patients.delta', filesystem=fs)"
   ]
  },
  {
   "cell_type": "code",
   "execution_count": 40,
   "metadata": {},
   "outputs": [
    {
     "name": "stdout",
     "output_type": "stream",
     "text": [
      "patient_name: string\n",
      "patient_id: int64\n",
      "patient_age: int64\n",
      "patient_gender: string\n",
      "current_clinical_risk: string\n",
      "has_high_acuity: bool\n",
      "has_moderate_acuity: bool\n",
      "has_severe_disease: bool\n",
      "has_moderate_disease: bool\n",
      "needs_stabilization: bool\n",
      "-- schema metadata --\n",
      "pandas: '{\"index_columns\": [], \"column_indexes\": [], \"columns\": [{\"name\":' + 1362\n"
     ]
    }
   ],
   "source": [
    "print(pyarrow_patients.schema)"
   ]
  },
  {
   "cell_type": "code",
   "execution_count": 41,
   "metadata": {},
   "outputs": [
    {
     "data": {
      "text/plain": [
       "pyarrow.Table\n",
       "patient_name: string\n",
       "patient_id: int64\n",
       "patient_age: int64\n",
       "patient_gender: string\n",
       "current_clinical_risk: string\n",
       "has_high_acuity: bool\n",
       "has_moderate_acuity: bool\n",
       "has_severe_disease: bool\n",
       "has_moderate_disease: bool\n",
       "needs_stabilization: bool\n",
       "----\n",
       "patient_name: [[\"Allison Hill\",\"Noah Rhodes\",\"Angie Henderson\",\"Daniel Wagner\",\"Cristian Santos\",...,\"Anna Henderson\",\"Aaron Wise\",\"Deborah Figueroa\",\"Jessica Smith\",\"Stephen Mckee\"]]\n",
       "patient_id: [[685823118,138684919,996139578,496442646,725464884,...,224173718,513600440,719106699,304095531,373506211]]\n",
       "patient_age: [[6,91,56,1,67,...,52,32,19,84,89]]\n",
       "patient_gender: [[\"Male\",\"Male\",\"Female\",\"Male\",\"Male\",...,\"Male\",\"Male\",\"Male\",\"Male\",\"Male\"]]\n",
       "current_clinical_risk: [[\"Moderate\",\"High\",\"Moderate\",\"Moderate\",\"Moderate\",...,\"High\",\"Moderate\",\"Low\",\"High\",\"Moderate\"]]\n",
       "has_high_acuity: [[false,false,false,false,false,...,true,false,false,false,false]]\n",
       "has_moderate_acuity: [[false,false,true,false,false,...,false,true,false,true,false]]\n",
       "has_severe_disease: [[false,false,false,false,false,...,false,false,false,false,false]]\n",
       "has_moderate_disease: [[false,false,false,true,false,...,false,false,false,false,false]]\n",
       "needs_stabilization: [[false,false,true,false,false,...,true,false,false,false,false]]"
      ]
     },
     "execution_count": 41,
     "metadata": {},
     "output_type": "execute_result"
    }
   ],
   "source": [
    "pyarrow_patients"
   ]
  },
  {
   "cell_type": "code",
   "execution_count": 42,
   "metadata": {},
   "outputs": [
    {
     "data": {
      "text/html": [
       "<div>\n",
       "<style scoped>\n",
       "    .dataframe tbody tr th:only-of-type {\n",
       "        vertical-align: middle;\n",
       "    }\n",
       "\n",
       "    .dataframe tbody tr th {\n",
       "        vertical-align: top;\n",
       "    }\n",
       "\n",
       "    .dataframe thead th {\n",
       "        text-align: right;\n",
       "    }\n",
       "</style>\n",
       "<table border=\"1\" class=\"dataframe\">\n",
       "  <thead>\n",
       "    <tr style=\"text-align: right;\">\n",
       "      <th></th>\n",
       "      <th>patient_name</th>\n",
       "      <th>patient_id</th>\n",
       "      <th>patient_age</th>\n",
       "      <th>patient_gender</th>\n",
       "      <th>current_clinical_risk</th>\n",
       "      <th>has_high_acuity</th>\n",
       "      <th>has_moderate_acuity</th>\n",
       "      <th>has_severe_disease</th>\n",
       "      <th>has_moderate_disease</th>\n",
       "      <th>needs_stabilization</th>\n",
       "    </tr>\n",
       "  </thead>\n",
       "  <tbody>\n",
       "    <tr>\n",
       "      <th>0</th>\n",
       "      <td>Allison Hill</td>\n",
       "      <td>685823118</td>\n",
       "      <td>6</td>\n",
       "      <td>Male</td>\n",
       "      <td>Moderate</td>\n",
       "      <td>False</td>\n",
       "      <td>False</td>\n",
       "      <td>False</td>\n",
       "      <td>False</td>\n",
       "      <td>False</td>\n",
       "    </tr>\n",
       "    <tr>\n",
       "      <th>1</th>\n",
       "      <td>Noah Rhodes</td>\n",
       "      <td>138684919</td>\n",
       "      <td>91</td>\n",
       "      <td>Male</td>\n",
       "      <td>High</td>\n",
       "      <td>False</td>\n",
       "      <td>False</td>\n",
       "      <td>False</td>\n",
       "      <td>False</td>\n",
       "      <td>False</td>\n",
       "    </tr>\n",
       "    <tr>\n",
       "      <th>2</th>\n",
       "      <td>Angie Henderson</td>\n",
       "      <td>996139578</td>\n",
       "      <td>56</td>\n",
       "      <td>Female</td>\n",
       "      <td>Moderate</td>\n",
       "      <td>False</td>\n",
       "      <td>True</td>\n",
       "      <td>False</td>\n",
       "      <td>False</td>\n",
       "      <td>True</td>\n",
       "    </tr>\n",
       "    <tr>\n",
       "      <th>3</th>\n",
       "      <td>Daniel Wagner</td>\n",
       "      <td>496442646</td>\n",
       "      <td>1</td>\n",
       "      <td>Male</td>\n",
       "      <td>Moderate</td>\n",
       "      <td>False</td>\n",
       "      <td>False</td>\n",
       "      <td>False</td>\n",
       "      <td>True</td>\n",
       "      <td>False</td>\n",
       "    </tr>\n",
       "    <tr>\n",
       "      <th>4</th>\n",
       "      <td>Cristian Santos</td>\n",
       "      <td>725464884</td>\n",
       "      <td>67</td>\n",
       "      <td>Male</td>\n",
       "      <td>Moderate</td>\n",
       "      <td>False</td>\n",
       "      <td>False</td>\n",
       "      <td>False</td>\n",
       "      <td>False</td>\n",
       "      <td>False</td>\n",
       "    </tr>\n",
       "  </tbody>\n",
       "</table>\n",
       "</div>"
      ],
      "text/plain": [
       "      patient_name  patient_id  patient_age patient_gender   \n",
       "0     Allison Hill   685823118            6           Male  \\\n",
       "1      Noah Rhodes   138684919           91           Male   \n",
       "2  Angie Henderson   996139578           56         Female   \n",
       "3    Daniel Wagner   496442646            1           Male   \n",
       "4  Cristian Santos   725464884           67           Male   \n",
       "\n",
       "  current_clinical_risk  has_high_acuity  has_moderate_acuity   \n",
       "0              Moderate            False                False  \\\n",
       "1                  High            False                False   \n",
       "2              Moderate            False                 True   \n",
       "3              Moderate            False                False   \n",
       "4              Moderate            False                False   \n",
       "\n",
       "   has_severe_disease  has_moderate_disease  needs_stabilization  \n",
       "0               False                 False                False  \n",
       "1               False                 False                False  \n",
       "2               False                 False                 True  \n",
       "3               False                  True                False  \n",
       "4               False                 False                False  "
      ]
     },
     "execution_count": 42,
     "metadata": {},
     "output_type": "execute_result"
    }
   ],
   "source": [
    "pyarrow_patients.to_pandas().head()"
   ]
  },
  {
   "cell_type": "code",
   "execution_count": null,
   "metadata": {},
   "outputs": [],
   "source": []
  },
  {
   "cell_type": "code",
   "execution_count": 43,
   "metadata": {},
   "outputs": [],
   "source": [
    "# Get the frequency counts of each value in the binary columns\n",
    "high_acuity_counts = pyarrow_patients.to_pandas()['has_high_acuity'].value_counts()\n",
    "moderate_acuity_counts = pyarrow_patients.to_pandas()['has_moderate_acuity'].value_counts()"
   ]
  },
  {
   "cell_type": "code",
   "execution_count": 44,
   "metadata": {},
   "outputs": [
    {
     "data": {
      "image/png": "[encoded data removed]",
      "text/plain": [
       "<Figure size 640x480 with 1 Axes>"
      ]
     },
     "metadata": {},
     "output_type": "display_data"
    }
   ],
   "source": [
    "high_acuity_counts.plot(kind='bar', title='High Acuity Distribution')\n",
    "plt.show()"
   ]
  },
  {
   "cell_type": "code",
   "execution_count": 45,
   "metadata": {},
   "outputs": [
    {
     "data": {
      "image/png": "[encoded data removed]",
      "text/plain": [
       "<Figure size 640x480 with 1 Axes>"
      ]
     },
     "metadata": {},
     "output_type": "display_data"
    }
   ],
   "source": [
    "moderate_acuity_counts.plot(kind='pie', title='Moderate Acuity Distribution')\n",
    "plt.show()"
   ]
  },
  {
   "cell_type": "code",
   "execution_count": null,
   "metadata": {},
   "outputs": [],
   "source": []
  },
  {
   "cell_type": "code",
   "execution_count": null,
   "metadata": {},
   "outputs": [],
   "source": []
  },
  {
   "cell_type": "code",
   "execution_count": 46,
   "metadata": {},
   "outputs": [
    {
     "ename": "OSError",
     "evalue": "Generic LocalFileSystem error: Unable to open file /Users/zacklarsen/Documents/Documents - Zack’s Mac mini/Projects/copilot-priority/data/patients.delta/_delta_log/_last_checkpoint: Not a directory (os error 20)",
     "output_type": "error",
     "traceback": [
      "\u001b[0;31m---------------------------------------------------------------------------\u001b[0m",
      "\u001b[0;31mOSError\u001b[0m                                   Traceback (most recent call last)",
      "Cell \u001b[0;32mIn[46], line 2\u001b[0m\n\u001b[1;32m      1\u001b[0m \u001b[39m# Load the Delta table\u001b[39;00m\n\u001b[0;32m----> 2\u001b[0m delta_patients \u001b[39m=\u001b[39m deltalake\u001b[39m.\u001b[39;49mDeltaTable(\u001b[39m\"\u001b[39;49m\u001b[39mdata/patients.delta\u001b[39;49m\u001b[39m\"\u001b[39;49m)\n",
      "File \u001b[0;32m~/mambaforge/envs/copilot_priority/lib/python3.10/site-packages/deltalake/table.py:238\u001b[0m, in \u001b[0;36mDeltaTable.__init__\u001b[0;34m(self, table_uri, version, storage_options, without_files)\u001b[0m\n\u001b[1;32m    225\u001b[0m \u001b[39m\u001b[39m\u001b[39m\"\"\"\u001b[39;00m\n\u001b[1;32m    226\u001b[0m \u001b[39mCreate the Delta Table from a path with an optional version.\u001b[39;00m\n\u001b[1;32m    227\u001b[0m \u001b[39mMultiple StorageBackends are currently supported: AWS S3, Azure Data Lake Storage Gen2, Google Cloud Storage (GCS) and local URI.\u001b[39;00m\n\u001b[0;32m   (...)\u001b[0m\n\u001b[1;32m    235\u001b[0m \u001b[39m                      DeltaTable will be loaded with a significant memory reduction.\u001b[39;00m\n\u001b[1;32m    236\u001b[0m \u001b[39m\"\"\"\u001b[39;00m\n\u001b[1;32m    237\u001b[0m \u001b[39mself\u001b[39m\u001b[39m.\u001b[39m_storage_options \u001b[39m=\u001b[39m storage_options\n\u001b[0;32m--> 238\u001b[0m \u001b[39mself\u001b[39m\u001b[39m.\u001b[39m_table \u001b[39m=\u001b[39m RawDeltaTable(\n\u001b[1;32m    239\u001b[0m     \u001b[39mstr\u001b[39;49m(table_uri),\n\u001b[1;32m    240\u001b[0m     version\u001b[39m=\u001b[39;49mversion,\n\u001b[1;32m    241\u001b[0m     storage_options\u001b[39m=\u001b[39;49mstorage_options,\n\u001b[1;32m    242\u001b[0m     without_files\u001b[39m=\u001b[39;49mwithout_files,\n\u001b[1;32m    243\u001b[0m )\n\u001b[1;32m    244\u001b[0m \u001b[39mself\u001b[39m\u001b[39m.\u001b[39m_metadata \u001b[39m=\u001b[39m Metadata(\u001b[39mself\u001b[39m\u001b[39m.\u001b[39m_table)\n",
      "\u001b[0;31mOSError\u001b[0m: Generic LocalFileSystem error: Unable to open file /Users/zacklarsen/Documents/Documents - Zack’s Mac mini/Projects/copilot-priority/data/patients.delta/_delta_log/_last_checkpoint: Not a directory (os error 20)"
     ]
    }
   ],
   "source": [
    "# Load the Delta table\n",
    "delta_patients = deltalake.DeltaTable(\"data/patients.delta\")"
   ]
  },
  {
   "cell_type": "code",
   "execution_count": null,
   "metadata": {},
   "outputs": [
    {
     "ename": "AttributeError",
     "evalue": "'pyarrow.lib.Table' object has no attribute 'version'",
     "output_type": "error",
     "traceback": [
      "\u001b[0;31m---------------------------------------------------------------------------\u001b[0m",
      "\u001b[0;31mAttributeError\u001b[0m                            Traceback (most recent call last)",
      "Cell \u001b[0;32mIn[37], line 2\u001b[0m\n\u001b[1;32m      1\u001b[0m \u001b[39m# Get the version number of the Delta table\u001b[39;00m\n\u001b[0;32m----> 2\u001b[0m delta_table\u001b[39m.\u001b[39;49mversion()\n",
      "\u001b[0;31mAttributeError\u001b[0m: 'pyarrow.lib.Table' object has no attribute 'version'"
     ]
    }
   ],
   "source": [
    "# Get the version number of the Delta table\n",
    "delta_patients.version()"
   ]
  },
  {
   "cell_type": "code",
   "execution_count": null,
   "metadata": {},
   "outputs": [],
   "source": []
  }
 ],
 "metadata": {
  "kernelspec": {
   "display_name": "copilot_priority",
   "language": "python",
   "name": "python3"
  },
  "language_info": {
   "codemirror_mode": {
    "name": "ipython",
    "version": 3
   },
   "file_extension": ".py",
   "mimetype": "text/x-python",
   "name": "python",
   "nbconvert_exporter": "python",
   "pygments_lexer": "ipython3",
   "version": "3.10.12"
  },
  "orig_nbformat": 4
 },
 "nbformat": 4,
 "nbformat_minor": 2
}
